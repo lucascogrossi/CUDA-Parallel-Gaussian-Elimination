{
  "nbformat": 4,
  "nbformat_minor": 0,
  "metadata": {
    "colab": {
      "provenance": [],
      "gpuType": "T4",
      "authorship_tag": "ABX9TyPq123ALqu/xi1toXpzqzm4",
      "include_colab_link": true
    },
    "kernelspec": {
      "name": "python3",
      "display_name": "Python 3"
    },
    "language_info": {
      "name": "python"
    },
    "accelerator": "GPU"
  },
  "cells": [
    {
      "cell_type": "markdown",
      "metadata": {
        "id": "view-in-github",
        "colab_type": "text"
      },
      "source": [
        "<a href=\"https://colab.research.google.com/github/lucascogrossi/CUDA-Parallel-Gaussian-Elimination/blob/main/trab2.ipynb\" target=\"_parent\"><img src=\"https://colab.research.google.com/assets/colab-badge.svg\" alt=\"Open In Colab\"/></a>"
      ]
    },
    {
      "cell_type": "markdown",
      "source": [
        "### Trabalho computacional 2\n",
        "\n",
        "Disciplina: Cálculo Numérico  <br />\n",
        "Professor Dr. Jotair Kwiatkowski Jr."
      ],
      "metadata": {
        "id": "CQswzuKSXzhi"
      }
    },
    {
      "cell_type": "code",
      "execution_count": 2,
      "metadata": {
        "id": "p9BE2omzWzfK",
        "colab": {
          "base_uri": "https://localhost:8080/"
        },
        "outputId": "674f72a3-3570-4591-c9b7-e00eb6a2042c"
      },
      "outputs": [
        {
          "output_type": "stream",
          "name": "stdout",
          "text": [
            "Thu Nov  7 12:17:46 2024       \n",
            "+---------------------------------------------------------------------------------------+\n",
            "| NVIDIA-SMI 535.104.05             Driver Version: 535.104.05   CUDA Version: 12.2     |\n",
            "|-----------------------------------------+----------------------+----------------------+\n",
            "| GPU  Name                 Persistence-M | Bus-Id        Disp.A | Volatile Uncorr. ECC |\n",
            "| Fan  Temp   Perf          Pwr:Usage/Cap |         Memory-Usage | GPU-Util  Compute M. |\n",
            "|                                         |                      |               MIG M. |\n",
            "|=========================================+======================+======================|\n",
            "|   0  Tesla T4                       Off | 00000000:00:04.0 Off |                    0 |\n",
            "| N/A   56C    P8              10W /  70W |      0MiB / 15360MiB |      0%      Default |\n",
            "|                                         |                      |                  N/A |\n",
            "+-----------------------------------------+----------------------+----------------------+\n",
            "                                                                                         \n",
            "+---------------------------------------------------------------------------------------+\n",
            "| Processes:                                                                            |\n",
            "|  GPU   GI   CI        PID   Type   Process name                            GPU Memory |\n",
            "|        ID   ID                                                             Usage      |\n",
            "|=======================================================================================|\n",
            "|  No running processes found                                                           |\n",
            "+---------------------------------------------------------------------------------------+\n"
          ]
        }
      ],
      "source": [
        "!nvidia-smi"
      ]
    },
    {
      "cell_type": "markdown",
      "source": [],
      "metadata": {
        "id": "5l3FjCFdZKAM"
      }
    },
    {
      "cell_type": "code",
      "source": [
        "%%writefile main.cu\n",
        "\n",
        "#include <iostream>\n",
        "#include <vector>\n",
        "\n",
        "using namespace std;\n",
        "\n",
        "int main() {\n",
        "\n",
        "  vector<vector<double>> h_A {\n",
        "    {2.0, 3.0, -1.0},\n",
        "    {1.0, 0.0, 2.0},\n",
        "    {0.0, 15.0, -1.0}\n",
        "  };\n",
        "\n",
        "  size_t N = h_A.size();\n",
        "\n",
        "  vector<double> h_b {4, 3, 2};\n",
        "\n",
        "\n",
        "  double maxVal = -std::numeric_limits<double>::infinity();\n",
        "  for (int i = 0; i < N; ++i) {\n",
        "    for (int j = 0; j < h_A[i].size(); ++j) {\n",
        "        if (h_A[i][j] > maxVal) {\n",
        "          maxVal = h_A[i][j];\n",
        "        }\n",
        "    }\n",
        "  }\n",
        "  cout << \"Maior valor: \" << maxVal << endl;\n",
        "\n",
        "\n",
        "\n",
        "\n",
        "\n",
        "}\n"
      ],
      "metadata": {
        "colab": {
          "base_uri": "https://localhost:8080/"
        },
        "id": "pya_vCwoZcaC",
        "outputId": "f5cfad48-b0cc-4747-bd37-3c87ce77ee9a"
      },
      "execution_count": 37,
      "outputs": [
        {
          "output_type": "stream",
          "name": "stdout",
          "text": [
            "Overwriting main.cu\n"
          ]
        }
      ]
    },
    {
      "cell_type": "code",
      "source": [
        "!nvcc main.cu -o main\n",
        "!nvprof ./main"
      ],
      "metadata": {
        "colab": {
          "base_uri": "https://localhost:8080/"
        },
        "id": "Tcp1PMdmZt83",
        "outputId": "eea8e424-a3ef-4ca6-c5bd-f880ae9d7de0"
      },
      "execution_count": 38,
      "outputs": [
        {
          "output_type": "stream",
          "name": "stdout",
          "text": [
            "==27412== NVPROF is profiling process 27412, command: ./main\n",
            "Solution vector b: \n",
            "1.000000\n",
            "2.333333\n",
            "0.000000\n",
            "==27412== Profiling application: ./main\n",
            "==27412== Profiling result:\n",
            "            Type  Time(%)      Time     Calls       Avg       Min       Max  Name\n",
            " GPU activities:   40.20%  10.496us         3  3.4980us  2.5280us  4.1920us  findPivotAndSwap(float*, float*, int, int)\n",
            "                   38.60%  10.080us         3  3.3600us  2.2080us  4.2240us  gaussianEliminationKernel(float*, float*, int, int)\n",
            "                   14.34%  3.7440us         2  1.8720us  1.6320us  2.1120us  [CUDA memcpy DtoH]\n",
            "                    6.86%  1.7920us         2     896ns     672ns  1.1200us  [CUDA memcpy HtoD]\n",
            "      API calls:   56.42%  196.24ms         6  32.706ms  6.1280us  196.20ms  cudaLaunchKernel\n",
            "                   43.43%  151.06ms         2  75.530ms  8.5020us  151.05ms  cudaMalloc\n",
            "                    0.07%  232.62us         2  116.31us  15.601us  217.01us  cudaFree\n",
            "                    0.04%  140.11us       114  1.2290us     139ns  55.303us  cuDeviceGetAttribute\n",
            "                    0.03%  90.622us         4  22.655us  8.1470us  37.356us  cudaMemcpy\n",
            "                    0.01%  46.511us         6  7.7510us  6.2900us  10.922us  cudaDeviceSynchronize\n",
            "                    0.00%  11.443us         1  11.443us  11.443us  11.443us  cuDeviceGetName\n",
            "                    0.00%  5.9820us         1  5.9820us  5.9820us  5.9820us  cuDeviceGetPCIBusId\n",
            "                    0.00%  3.4140us         1  3.4140us  3.4140us  3.4140us  cuDeviceTotalMem\n",
            "                    0.00%  1.5970us         3     532ns     230ns  1.1360us  cuDeviceGetCount\n",
            "                    0.00%  1.1740us         2     587ns     189ns     985ns  cuDeviceGet\n",
            "                    0.00%     753ns         1     753ns     753ns     753ns  cuModuleGetLoadingMode\n",
            "                    0.00%     234ns         1     234ns     234ns     234ns  cuDeviceGetUuid\n"
          ]
        }
      ]
    }
  ]
}