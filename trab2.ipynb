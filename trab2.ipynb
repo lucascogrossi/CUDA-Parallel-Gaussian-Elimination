{
  "nbformat": 4,
  "nbformat_minor": 0,
  "metadata": {
    "colab": {
      "provenance": [],
      "gpuType": "T4",
      "authorship_tag": "ABX9TyMGuZ1Cr0F2cCEdtQfRIdAW",
      "include_colab_link": true
    },
    "kernelspec": {
      "name": "python3",
      "display_name": "Python 3"
    },
    "language_info": {
      "name": "python"
    },
    "accelerator": "GPU"
  },
  "cells": [
    {
      "cell_type": "markdown",
      "metadata": {
        "id": "view-in-github",
        "colab_type": "text"
      },
      "source": [
        "<a href=\"https://colab.research.google.com/github/lucascogrossi/CUDA-Parallel-Gaussian-Elimination/blob/main/trab2.ipynb\" target=\"_parent\"><img src=\"https://colab.research.google.com/assets/colab-badge.svg\" alt=\"Open In Colab\"/></a>"
      ]
    },
    {
      "cell_type": "markdown",
      "source": [
        "### Trabalho computacional 2\n",
        "\n",
        "Disciplina: Cálculo Numérico  <br />\n",
        "Professor Dr. Jotair Kwiatkowski Jr."
      ],
      "metadata": {
        "id": "CQswzuKSXzhi"
      }
    },
    {
      "cell_type": "code",
      "execution_count": 2,
      "metadata": {
        "id": "p9BE2omzWzfK",
        "colab": {
          "base_uri": "https://localhost:8080/"
        },
        "outputId": "674f72a3-3570-4591-c9b7-e00eb6a2042c"
      },
      "outputs": [
        {
          "output_type": "stream",
          "name": "stdout",
          "text": [
            "Thu Nov  7 12:17:46 2024       \n",
            "+---------------------------------------------------------------------------------------+\n",
            "| NVIDIA-SMI 535.104.05             Driver Version: 535.104.05   CUDA Version: 12.2     |\n",
            "|-----------------------------------------+----------------------+----------------------+\n",
            "| GPU  Name                 Persistence-M | Bus-Id        Disp.A | Volatile Uncorr. ECC |\n",
            "| Fan  Temp   Perf          Pwr:Usage/Cap |         Memory-Usage | GPU-Util  Compute M. |\n",
            "|                                         |                      |               MIG M. |\n",
            "|=========================================+======================+======================|\n",
            "|   0  Tesla T4                       Off | 00000000:00:04.0 Off |                    0 |\n",
            "| N/A   56C    P8              10W /  70W |      0MiB / 15360MiB |      0%      Default |\n",
            "|                                         |                      |                  N/A |\n",
            "+-----------------------------------------+----------------------+----------------------+\n",
            "                                                                                         \n",
            "+---------------------------------------------------------------------------------------+\n",
            "| Processes:                                                                            |\n",
            "|  GPU   GI   CI        PID   Type   Process name                            GPU Memory |\n",
            "|        ID   ID                                                             Usage      |\n",
            "|=======================================================================================|\n",
            "|  No running processes found                                                           |\n",
            "+---------------------------------------------------------------------------------------+\n"
          ]
        }
      ],
      "source": [
        "!nvidia-smi"
      ]
    },
    {
      "cell_type": "markdown",
      "source": [],
      "metadata": {
        "id": "5l3FjCFdZKAM"
      }
    },
    {
      "cell_type": "code",
      "source": [
        "%%writefile main.cu\n",
        "\n",
        "#include <iostream>\n",
        "#include <vector>\n",
        "\n",
        "using namespace std;\n",
        "\n",
        "\n",
        "int main() {\n",
        "\n",
        "  vector<vector<double>> h_A {\n",
        "    {2.0, 3.0, -1.0},\n",
        "    {1.0, 0.0, 2.0},\n",
        "    {0.0, 3.0, -1.0}\n",
        "  };\n",
        "\n",
        "  int n = h_A.size();\n",
        "\n",
        "  vector<double> h_b {4, 3, 2};\n",
        "\n",
        "\n",
        "\n",
        "\n",
        "}\n"
      ],
      "metadata": {
        "colab": {
          "base_uri": "https://localhost:8080/"
        },
        "id": "pya_vCwoZcaC",
        "outputId": "d32f00bd-d737-40a5-99ac-e874e681707d"
      },
      "execution_count": 19,
      "outputs": [
        {
          "output_type": "stream",
          "name": "stdout",
          "text": [
            "Overwriting main.cu\n"
          ]
        }
      ]
    },
    {
      "cell_type": "code",
      "source": [
        "!nvcc main.cu -o main\n",
        "!nvprof ./main"
      ],
      "metadata": {
        "colab": {
          "base_uri": "https://localhost:8080/"
        },
        "id": "Tcp1PMdmZt83",
        "outputId": "c402eb31-dde5-43d1-b79e-0fac6903a9db"
      },
      "execution_count": 20,
      "outputs": [
        {
          "output_type": "stream",
          "name": "stdout",
          "text": [
            "======== Warning: No profile data collected.\n"
          ]
        }
      ]
    }
  ]
}